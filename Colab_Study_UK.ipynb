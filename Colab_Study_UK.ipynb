{
  "nbformat": 4,
  "nbformat_minor": 0,
  "metadata": {
    "colab": {
      "name": "Colab_Study_UK.ipynb",
      "provenance": [],
      "authorship_tag": "ABX9TyNuhWL0lWVD8L52XCkwZRHI",
      "include_colab_link": true
    },
    "kernelspec": {
      "name": "python3",
      "display_name": "Python 3"
    }
  },
  "cells": [
    {
      "cell_type": "markdown",
      "metadata": {
        "id": "view-in-github",
        "colab_type": "text"
      },
      "source": [
        "<a href=\"https://colab.research.google.com/github/freeuk91/Test_20210111/blob/main/Colab_Study_UK.ipynb\" target=\"_parent\"><img src=\"https://colab.research.google.com/assets/colab-badge.svg\" alt=\"Open In Colab\"/></a>"
      ]
    },
    {
      "cell_type": "markdown",
      "metadata": {
        "id": "aZnZFMuPeqC-"
      },
      "source": [
        "# <Uk's Google Colab Study>"
      ]
    },
    {
      "cell_type": "markdown",
      "metadata": {
        "id": "UHfpwkgN6qEd"
      },
      "source": [
        "# Google Colaboratory"
      ]
    },
    {
      "cell_type": "markdown",
      "metadata": {
        "id": "G6aWvw86TGDl"
      },
      "source": [
        "## Google Colab 특징\r\n",
        "* 구글 클라우드 기반의 무료 개발환경 서비스\r\n",
        "* 환경설정 및 실행까지 매우 빠른 환경\r\n",
        "* 딥러닝 실행이 가능한 정도의 고사양 환경 제공\r\n",
        "* Jupyter Notebook 환경 제공\r\n",
        "* 대부준의 패키지들이 이미 설치된 환경 제공\r\n",
        "* 여러 사용자와 동시에 사용 가능\r\n",
        "* PC, Tablet, Mobile 상관없이 Internet browser만 있으면 언제 어디서나 접속 가능\r\n",
        "* 목차나 Markdown 미리보기 등 다양한 기능 제공\r\n",
        "* Google Drive와 연공이 가능\r\n",
        "* Git이나 Github와 쉽게 연동 가능"
      ]
    },
    {
      "cell_type": "markdown",
      "metadata": {
        "id": "gMxOOjEiTkWu"
      },
      "source": [
        "##Google Colab 주의사항¶\r\n",
        "* 구글 계정 필요\r\n",
        "* 최대 세션 유지시간이 존재(12시간)\r\n",
        "* 세션이 종료되면 작업중이던 데이터는 모두 삭제\r\n",
        "* 소스코드는 구글 드라이브에 저장"
      ]
    },
    {
      "cell_type": "markdown",
      "metadata": {
        "id": "MKfCV8tgT1Cw"
      },
      "source": [
        "## Google Colab 사양"
      ]
    },
    {
      "cell_type": "markdown",
      "metadata": {
        "id": "pEZ3EHWvT8X7"
      },
      "source": [
        "* 플랫폼"
      ]
    },
    {
      "cell_type": "code",
      "metadata": {
        "colab": {
          "base_uri": "https://localhost:8080/",
          "height": 35
        },
        "id": "e6o3b9c4T_TV",
        "outputId": "804ad940-2fb1-4962-bba5-d8ff30695790"
      },
      "source": [
        "import platform\r\n",
        "platform.platform()"
      ],
      "execution_count": 2,
      "outputs": [
        {
          "output_type": "execute_result",
          "data": {
            "application/vnd.google.colaboratory.intrinsic+json": {
              "type": "string"
            },
            "text/plain": [
              "'Linux-4.19.112+-x86_64-with-Ubuntu-18.04-bionic'"
            ]
          },
          "metadata": {
            "tags": []
          },
          "execution_count": 2
        }
      ]
    },
    {
      "cell_type": "markdown",
      "metadata": {
        "id": "07LiJbwWUm2O"
      },
      "source": [
        "* 파이썬 버전"
      ]
    },
    {
      "cell_type": "code",
      "metadata": {
        "colab": {
          "base_uri": "https://localhost:8080/"
        },
        "id": "q11m8pYxUltu",
        "outputId": "d6d1da09-9be9-42e8-eb1b-4d235839905a"
      },
      "source": [
        "!python --version"
      ],
      "execution_count": 3,
      "outputs": [
        {
          "output_type": "stream",
          "text": [
            "Python 3.6.9\n"
          ],
          "name": "stdout"
        }
      ]
    },
    {
      "cell_type": "markdown",
      "metadata": {
        "id": "A3vo8nlSU0ud"
      },
      "source": [
        "##Google Colab 런타임\r\n",
        "* Colab에서 고성능 하드위어로 GPU나 TPU 사용가능\r\n",
        "* 런타임 유형변경(Change runtime type) 필요\r\n",
        "  * None : CPU만 사용\r\n",
        "  * GPU : 하드웨어 가속으로 GPU 사용\r\n",
        "  * TPU : 하드웨어 가속으로 TPU 사용"
      ]
    },
    {
      "cell_type": "markdown",
      "metadata": {
        "id": "Q12N4osjbFr4"
      },
      "source": [
        "##파일 저장 및 다운로드/업로드\r\n",
        "* Jupyter Notebook 환경에서 파일 저장 및 다운로드"
      ]
    },
    {
      "cell_type": "code",
      "metadata": {
        "colab": {
          "base_uri": "https://localhost:8080/"
        },
        "id": "LoB5GqYlVUjV",
        "outputId": "76ec37f6-1732-4dab-8029-ecebbe12341d"
      },
      "source": [
        "%%writefile test.txt\r\n",
        "text UK"
      ],
      "execution_count": 8,
      "outputs": [
        {
          "output_type": "stream",
          "text": [
            "Writing test.txt\n"
          ],
          "name": "stdout"
        }
      ]
    },
    {
      "cell_type": "code",
      "metadata": {
        "colab": {
          "base_uri": "https://localhost:8080/"
        },
        "id": "5V3H0-X1bmh5",
        "outputId": "f2596466-1fe6-4c3c-8c30-a55e29b4d6e3"
      },
      "source": [
        "!cat test.txt"
      ],
      "execution_count": 9,
      "outputs": [
        {
          "output_type": "stream",
          "text": [
            "text UK"
          ],
          "name": "stdout"
        }
      ]
    },
    {
      "cell_type": "code",
      "metadata": {
        "colab": {
          "base_uri": "https://localhost:8080/",
          "height": 17
        },
        "id": "gOOBaFO_cKKU",
        "outputId": "a09a0e46-8ebd-4360-a615-2a53a78d42e0"
      },
      "source": [
        "from google.colab import files\r\n",
        "files.download('test.txt')"
      ],
      "execution_count": 10,
      "outputs": [
        {
          "output_type": "display_data",
          "data": {
            "application/javascript": [
              "\n",
              "    async function download(id, filename, size) {\n",
              "      if (!google.colab.kernel.accessAllowed) {\n",
              "        return;\n",
              "      }\n",
              "      const div = document.createElement('div');\n",
              "      const label = document.createElement('label');\n",
              "      label.textContent = `Downloading \"${filename}\": `;\n",
              "      div.appendChild(label);\n",
              "      const progress = document.createElement('progress');\n",
              "      progress.max = size;\n",
              "      div.appendChild(progress);\n",
              "      document.body.appendChild(div);\n",
              "\n",
              "      const buffers = [];\n",
              "      let downloaded = 0;\n",
              "\n",
              "      const channel = await google.colab.kernel.comms.open(id);\n",
              "      // Send a message to notify the kernel that we're ready.\n",
              "      channel.send({})\n",
              "\n",
              "      for await (const message of channel.messages) {\n",
              "        // Send a message to notify the kernel that we're ready.\n",
              "        channel.send({})\n",
              "        if (message.buffers) {\n",
              "          for (const buffer of message.buffers) {\n",
              "            buffers.push(buffer);\n",
              "            downloaded += buffer.byteLength;\n",
              "            progress.value = downloaded;\n",
              "          }\n",
              "        }\n",
              "      }\n",
              "      const blob = new Blob(buffers, {type: 'application/binary'});\n",
              "      const a = document.createElement('a');\n",
              "      a.href = window.URL.createObjectURL(blob);\n",
              "      a.download = filename;\n",
              "      div.appendChild(a);\n",
              "      a.click();\n",
              "      div.remove();\n",
              "    }\n",
              "  "
            ],
            "text/plain": [
              "<IPython.core.display.Javascript object>"
            ]
          },
          "metadata": {
            "tags": []
          }
        },
        {
          "output_type": "display_data",
          "data": {
            "application/javascript": [
              "download(\"download_ca5b3904-258b-4f66-a6c0-ea1d636f4e46\", \"test.txt\", 7)"
            ],
            "text/plain": [
              "<IPython.core.display.Javascript object>"
            ]
          },
          "metadata": {
            "tags": []
          }
        }
      ]
    },
    {
      "cell_type": "code",
      "metadata": {
        "colab": {
          "resources": {
            "http://localhost:8080/nbextensions/google.colab/files.js": {
              "data": "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",
              "ok": true,
              "headers": [
                [
                  "content-type",
                  "application/javascript"
                ]
              ],
              "status": 200,
              "status_text": ""
            }
          },
          "base_uri": "https://localhost:8080/",
          "height": 76
        },
        "id": "vev0tTfOctee",
        "outputId": "bd001b92-0dfb-4815-9160-4e3ce7d67941"
      },
      "source": [
        "upload=files.upload()"
      ],
      "execution_count": 11,
      "outputs": [
        {
          "output_type": "display_data",
          "data": {
            "text/html": [
              "\n",
              "     <input type=\"file\" id=\"files-ec2da0f5-5150-47ae-95c6-56b0f3c03b90\" name=\"files[]\" multiple disabled\n",
              "        style=\"border:none\" />\n",
              "     <output id=\"result-ec2da0f5-5150-47ae-95c6-56b0f3c03b90\">\n",
              "      Upload widget is only available when the cell has been executed in the\n",
              "      current browser session. Please rerun this cell to enable.\n",
              "      </output>\n",
              "      <script src=\"/nbextensions/google.colab/files.js\"></script> "
            ],
            "text/plain": [
              "<IPython.core.display.HTML object>"
            ]
          },
          "metadata": {
            "tags": []
          }
        },
        {
          "output_type": "stream",
          "text": [
            "Saving liu2019.pdf to liu2019.pdf\n"
          ],
          "name": "stdout"
        }
      ]
    },
    {
      "cell_type": "code",
      "metadata": {
        "colab": {
          "base_uri": "https://localhost:8080/"
        },
        "id": "gotse3hqc-K8",
        "outputId": "3e45ef62-3cc8-4338-8976-3016bbe63fde"
      },
      "source": [
        "!ls"
      ],
      "execution_count": 12,
      "outputs": [
        {
          "output_type": "stream",
          "text": [
            "liu2019.pdf  sample_data  test.text  test.txt\n"
          ],
          "name": "stdout"
        }
      ]
    },
    {
      "cell_type": "markdown",
      "metadata": {
        "id": "tlGRJVtZdFhv"
      },
      "source": [
        "## Google Drive 연동\r\n",
        "* Google Colab은 Google Drive와 mount를 통해 쉽게 연동 가능\r\n",
        "* Google Drive에 소스코드 저장 뿐만 아니라 파일을 열거나 저장 가능"
      ]
    },
    {
      "cell_type": "code",
      "metadata": {
        "colab": {
          "base_uri": "https://localhost:8080/"
        },
        "id": "ZPeIXYMGdV3f",
        "outputId": "5f1347ed-a834-49d6-c896-a57b39eb4b73"
      },
      "source": [
        "from google.colab import drive\r\n",
        "drive.mount('/content/drive')"
      ],
      "execution_count": 13,
      "outputs": [
        {
          "output_type": "stream",
          "text": [
            "Mounted at /content/drive\n"
          ],
          "name": "stdout"
        }
      ]
    },
    {
      "cell_type": "code",
      "metadata": {
        "colab": {
          "base_uri": "https://localhost:8080/"
        },
        "id": "_nmNyIppdzF1",
        "outputId": "bdb7d501-c1d3-4b6f-fa87-dbc75b7f170b"
      },
      "source": [
        "!ls /content/drive"
      ],
      "execution_count": 14,
      "outputs": [
        {
          "output_type": "stream",
          "text": [
            "MyDrive\n"
          ],
          "name": "stdout"
        }
      ]
    },
    {
      "cell_type": "markdown",
      "metadata": {
        "id": "PMPbNysUeEYT"
      },
      "source": [
        "# Jupyter Notebook\r\n",
        "* IPython Shell의 브라우저 기반 그래픽 인터페이스\r\n",
        "* 파이썬과 IPython 문장 실행\r\n",
        "* 서식이 있는 텍스트와 정적/동적 시각화, 수학공식 표현"
      ]
    },
    {
      "cell_type": "markdown",
      "metadata": {
        "id": "TPkINkGje0tP"
      },
      "source": [
        "##help()\r\n",
        "* 파이썬 객체에 대한 요약 정보와 사용법 보기"
      ]
    },
    {
      "cell_type": "code",
      "metadata": {
        "colab": {
          "base_uri": "https://localhost:8080/"
        },
        "id": "Vk5wztO6eYBN",
        "outputId": "92ab32bb-c726-4ef6-d0bb-60d28b3839f1"
      },
      "source": [
        "help(min)"
      ],
      "execution_count": 16,
      "outputs": [
        {
          "output_type": "stream",
          "text": [
            "Help on built-in function min in module builtins:\n",
            "\n",
            "min(...)\n",
            "    min(iterable, *[, default=obj, key=func]) -> value\n",
            "    min(arg1, arg2, *args, *[, key=func]) -> value\n",
            "    \n",
            "    With a single iterable argument, return its smallest item. The\n",
            "    default keyword-only argument specifies an object to return if\n",
            "    the provided iterable is empty.\n",
            "    With two or more arguments, return the smallest argument.\n",
            "\n"
          ],
          "name": "stdout"
        }
      ]
    },
    {
      "cell_type": "markdown",
      "metadata": {
        "id": "USz052GQfK7R"
      },
      "source": [
        "##?로 설명보기\r\n",
        "* 객체 요약 정보 및 사용법이 있는 docstring 보기"
      ]
    },
    {
      "cell_type": "code",
      "metadata": {
        "id": "2UszS3hbfU97"
      },
      "source": [
        "min?"
      ],
      "execution_count": 17,
      "outputs": []
    },
    {
      "cell_type": "code",
      "metadata": {
        "id": "84sHQzrgrKJ_"
      },
      "source": [
        "li=['One', 'Two', 'Three']\r\n",
        "li?"
      ],
      "execution_count": 18,
      "outputs": []
    },
    {
      "cell_type": "code",
      "metadata": {
        "id": "OLRMTd7WrU_E"
      },
      "source": [
        "li.count?"
      ],
      "execution_count": 19,
      "outputs": []
    },
    {
      "cell_type": "code",
      "metadata": {
        "id": "oA_2drmVrZ-l"
      },
      "source": [
        "def power(b, n):\r\n",
        "  \"\"\"b의 n승을 반환\"\"\"\r\n",
        "  return pow(b, n)"
      ],
      "execution_count": 20,
      "outputs": []
    },
    {
      "cell_type": "code",
      "metadata": {
        "id": "P_2tiPcIrseX"
      },
      "source": [
        "power?"
      ],
      "execution_count": 23,
      "outputs": []
    },
    {
      "cell_type": "code",
      "metadata": {
        "id": "0bf2zHJqruM3"
      },
      "source": [
        "power??"
      ],
      "execution_count": 22,
      "outputs": []
    },
    {
      "cell_type": "markdown",
      "metadata": {
        "id": "jpsTUasMsAnn"
      },
      "source": [
        "##탭(tab) 자동완성\r\n",
        "* 객체와 모듈, 인터페이스의 내용을 자동완성"
      ]
    },
    {
      "cell_type": "code",
      "metadata": {
        "id": "wv14e0t0r6Gt"
      },
      "source": [
        "li=['One', 'Two', 'Three']"
      ],
      "execution_count": 27,
      "outputs": []
    },
    {
      "cell_type": "code",
      "metadata": {
        "colab": {
          "base_uri": "https://localhost:8080/"
        },
        "id": "syLbJQitsXQ1",
        "outputId": "6d411c1a-f4d5-47fb-d5d5-1cc64a9a944b"
      },
      "source": [
        "li.append('Four')\r\n",
        "li"
      ],
      "execution_count": 28,
      "outputs": [
        {
          "output_type": "execute_result",
          "data": {
            "text/plain": [
              "['One', 'Two', 'Three', 'Four']"
            ]
          },
          "metadata": {
            "tags": []
          },
          "execution_count": 28
        }
      ]
    },
    {
      "cell_type": "markdown",
      "metadata": {
        "id": "hBOFYcE9svHF"
      },
      "source": [
        "##와일드카드(wildcard) 매칭\r\n",
        "* 단어의 중간이나 마지막 글자로 매칭하여 객체나 속성 찾기"
      ]
    },
    {
      "cell_type": "code",
      "metadata": {
        "id": "6A3Gha4Zso22"
      },
      "source": [
        "*Error?"
      ],
      "execution_count": 29,
      "outputs": []
    },
    {
      "cell_type": "code",
      "metadata": {
        "id": "FQPscCwLtAGi"
      },
      "source": [
        "str.*index*?"
      ],
      "execution_count": 30,
      "outputs": []
    },
    {
      "cell_type": "markdown",
      "metadata": {
        "id": "gXnob5eatOa7"
      },
      "source": [
        "##매직 명령어(magic commands)\r\n",
        "* Jupyter Notebook 환경에서 파이썬 파일 저장 및 실행"
      ]
    },
    {
      "cell_type": "code",
      "metadata": {
        "colab": {
          "base_uri": "https://localhost:8080/"
        },
        "id": "FTF_cZ1OtIh_",
        "outputId": "51f758b4-5ab5-49ee-b497-a17fcc6456c1"
      },
      "source": [
        "%%writefile test.py\r\n",
        "print('Hello Colab')"
      ],
      "execution_count": 32,
      "outputs": [
        {
          "output_type": "stream",
          "text": [
            "Writing test.py\n"
          ],
          "name": "stdout"
        }
      ]
    },
    {
      "cell_type": "code",
      "metadata": {
        "colab": {
          "base_uri": "https://localhost:8080/"
        },
        "id": "cazfLxoIteCK",
        "outputId": "c9edaa51-e216-42d0-f2b2-2df827e44eff"
      },
      "source": [
        "%run test.py"
      ],
      "execution_count": 33,
      "outputs": [
        {
          "output_type": "stream",
          "text": [
            "Hello Colab\n"
          ],
          "name": "stdout"
        }
      ]
    },
    {
      "cell_type": "markdown",
      "metadata": {
        "id": "l5QMuGI-tr-k"
      },
      "source": [
        "* 코드 실행시간 측정"
      ]
    },
    {
      "cell_type": "code",
      "metadata": {
        "id": "u29N2KgTtqMQ"
      },
      "source": [
        "%%timeit?"
      ],
      "execution_count": 34,
      "outputs": []
    },
    {
      "cell_type": "code",
      "metadata": {
        "colab": {
          "base_uri": "https://localhost:8080/"
        },
        "id": "7Lh6T6Fat0zW",
        "outputId": "5b3ef036-423c-4b49-eb35-9a1f3cf20d35"
      },
      "source": [
        "%timeit li=[n ** n for n in range(10000)]"
      ],
      "execution_count": 35,
      "outputs": [
        {
          "output_type": "stream",
          "text": [
            "1 loop, best of 3: 6.48 s per loop\n"
          ],
          "name": "stdout"
        }
      ]
    },
    {
      "cell_type": "code",
      "metadata": {
        "colab": {
          "base_uri": "https://localhost:8080/"
        },
        "id": "WOBgPI_Nt-U7",
        "outputId": "55f4811a-1666-4475-8d6b-d0f22ca99e76"
      },
      "source": [
        "%%timeit\r\n",
        "li=[]\r\n",
        "for n in range(10000):\r\n",
        "  li.append(n ** n)"
      ],
      "execution_count": 36,
      "outputs": [
        {
          "output_type": "stream",
          "text": [
            "1 loop, best of 3: 6.49 s per loop\n"
          ],
          "name": "stdout"
        }
      ]
    },
    {
      "cell_type": "markdown",
      "metadata": {
        "id": "eG7zZ1WJuVZZ"
      },
      "source": [
        "##입력과 출력 이력\r\n",
        "* In과 Out 객체를 통해 이전 명령어와 명령어의 출력 결과 보기"
      ]
    },
    {
      "cell_type": "code",
      "metadata": {
        "colab": {
          "base_uri": "https://localhost:8080/"
        },
        "id": "Yo-t3S2kuQit",
        "outputId": "47eee9e5-f451-462b-d42b-798346c46634"
      },
      "source": [
        "In"
      ],
      "execution_count": 37,
      "outputs": [
        {
          "output_type": "execute_result",
          "data": {
            "text/plain": [
              "['',\n",
              " 'import platform\\nplatform.platform()',\n",
              " 'import platform\\nplatform.platform()',\n",
              " \"get_ipython().system('python --version')\",\n",
              " \"get_ipython().run_cell_magic('writefile', 'test.text', 'text')\",\n",
              " \"get_ipython().system('cat test.txt')\",\n",
              " \"get_ipython().run_cell_magic('writefile', 'test.text', 'text')\",\n",
              " \"get_ipython().system('cat test.txt')\",\n",
              " \"get_ipython().run_cell_magic('writefile', 'test.txt', 'text UK')\",\n",
              " \"get_ipython().system('cat test.txt')\",\n",
              " \"from google.colab import files\\nfiles.download('test.txt')\",\n",
              " 'upload=files.upload()',\n",
              " \"get_ipython().system('ls')\",\n",
              " \"from google.colab import drive\\ndrive.mount('/content/drive')\",\n",
              " \"get_ipython().system('ls /content/drive')\",\n",
              " \"# <Uk's Google Colab Study>\",\n",
              " 'help(min)',\n",
              " \"get_ipython().magic('pinfo min')\",\n",
              " \"li=['One', 'Two', 'Three']\\nget_ipython().magic('pinfo li')\",\n",
              " \"get_ipython().magic('pinfo li.count')\",\n",
              " 'def power(b, n):\\n  \"\"\"b의 n승을 반환\"\"\"\\n  return pow(b, n)',\n",
              " \"get_ipython().magic('pinfo power')\",\n",
              " \"get_ipython().magic('pinfo2 power')\",\n",
              " \"get_ipython().magic('pinfo power')\",\n",
              " \"li=['One', 'Two', 'Three']\",\n",
              " \"li.append('Four')\",\n",
              " \"li.append('Four')\\nli\",\n",
              " \"li=['One', 'Two', 'Three']\",\n",
              " \"li.append('Four')\\nli\",\n",
              " \"get_ipython().magic('psearch *Error')\",\n",
              " \"get_ipython().magic('psearch str.*index*')\",\n",
              " \"get_ipython().run_cell_magic('writefile', 'test.py', '')\",\n",
              " 'get_ipython().run_cell_magic(\\'writefile\\', \\'test.py\\', \"print(\\'Hello Colab\\')\")',\n",
              " \"get_ipython().magic('run test.py')\",\n",
              " \"get_ipython().magic('pinfo %%timeit')\",\n",
              " \"get_ipython().magic('timeit li=[n ** n for n in range(10000)]')\",\n",
              " \"get_ipython().run_cell_magic('timeit', '', 'li=[]\\\\nfor n in range(10000):\\\\n  li.append(n ** n)')\",\n",
              " 'In']"
            ]
          },
          "metadata": {
            "tags": []
          },
          "execution_count": 37
        }
      ]
    },
    {
      "cell_type": "code",
      "metadata": {
        "colab": {
          "base_uri": "https://localhost:8080/",
          "height": 35
        },
        "id": "m-soHdYsup-a",
        "outputId": "06cf0069-f5ae-4a69-e975-adad4e5eef0a"
      },
      "source": [
        "In[34]"
      ],
      "execution_count": 38,
      "outputs": [
        {
          "output_type": "execute_result",
          "data": {
            "application/vnd.google.colaboratory.intrinsic+json": {
              "type": "string"
            },
            "text/plain": [
              "\"get_ipython().magic('pinfo %%timeit')\""
            ]
          },
          "metadata": {
            "tags": []
          },
          "execution_count": 38
        }
      ]
    },
    {
      "cell_type": "code",
      "metadata": {
        "colab": {
          "base_uri": "https://localhost:8080/"
        },
        "id": "n_h1HJDfwEIg",
        "outputId": "f872865e-6ec0-4598-dca2-442a58c1012a"
      },
      "source": [
        "Out"
      ],
      "execution_count": 40,
      "outputs": [
        {
          "output_type": "execute_result",
          "data": {
            "text/plain": [
              "{1: 'Linux-4.19.112+-x86_64-with-Ubuntu-18.04-bionic',\n",
              " 2: 'Linux-4.19.112+-x86_64-with-Ubuntu-18.04-bionic',\n",
              " 26: ['One', 'Two', 'Three', 'Four', 'Four'],\n",
              " 28: ['One', 'Two', 'Three', 'Four'],\n",
              " 37: ['',\n",
              "  'import platform\\nplatform.platform()',\n",
              "  'import platform\\nplatform.platform()',\n",
              "  \"get_ipython().system('python --version')\",\n",
              "  \"get_ipython().run_cell_magic('writefile', 'test.text', 'text')\",\n",
              "  \"get_ipython().system('cat test.txt')\",\n",
              "  \"get_ipython().run_cell_magic('writefile', 'test.text', 'text')\",\n",
              "  \"get_ipython().system('cat test.txt')\",\n",
              "  \"get_ipython().run_cell_magic('writefile', 'test.txt', 'text UK')\",\n",
              "  \"get_ipython().system('cat test.txt')\",\n",
              "  \"from google.colab import files\\nfiles.download('test.txt')\",\n",
              "  'upload=files.upload()',\n",
              "  \"get_ipython().system('ls')\",\n",
              "  \"from google.colab import drive\\ndrive.mount('/content/drive')\",\n",
              "  \"get_ipython().system('ls /content/drive')\",\n",
              "  \"# <Uk's Google Colab Study>\",\n",
              "  'help(min)',\n",
              "  \"get_ipython().magic('pinfo min')\",\n",
              "  \"li=['One', 'Two', 'Three']\\nget_ipython().magic('pinfo li')\",\n",
              "  \"get_ipython().magic('pinfo li.count')\",\n",
              "  'def power(b, n):\\n  \"\"\"b의 n승을 반환\"\"\"\\n  return pow(b, n)',\n",
              "  \"get_ipython().magic('pinfo power')\",\n",
              "  \"get_ipython().magic('pinfo2 power')\",\n",
              "  \"get_ipython().magic('pinfo power')\",\n",
              "  \"li=['One', 'Two', 'Three']\",\n",
              "  \"li.append('Four')\",\n",
              "  \"li.append('Four')\\nli\",\n",
              "  \"li=['One', 'Two', 'Three']\",\n",
              "  \"li.append('Four')\\nli\",\n",
              "  \"get_ipython().magic('psearch *Error')\",\n",
              "  \"get_ipython().magic('psearch str.*index*')\",\n",
              "  \"get_ipython().run_cell_magic('writefile', 'test.py', '')\",\n",
              "  'get_ipython().run_cell_magic(\\'writefile\\', \\'test.py\\', \"print(\\'Hello Colab\\')\")',\n",
              "  \"get_ipython().magic('run test.py')\",\n",
              "  \"get_ipython().magic('pinfo %%timeit')\",\n",
              "  \"get_ipython().magic('timeit li=[n ** n for n in range(10000)]')\",\n",
              "  \"get_ipython().run_cell_magic('timeit', '', 'li=[]\\\\nfor n in range(10000):\\\\n  li.append(n ** n)')\",\n",
              "  'In',\n",
              "  'In[34]',\n",
              "  'out',\n",
              "  'Out'],\n",
              " 38: \"get_ipython().magic('pinfo %%timeit')\"}"
            ]
          },
          "metadata": {
            "tags": []
          },
          "execution_count": 40
        }
      ]
    },
    {
      "cell_type": "code",
      "metadata": {
        "colab": {
          "base_uri": "https://localhost:8080/",
          "height": 35
        },
        "id": "QeYTv2r0wHGi",
        "outputId": "f4cdf37a-19a5-48cf-c1b1-86efc30af980"
      },
      "source": [
        "Out[38]"
      ],
      "execution_count": 41,
      "outputs": [
        {
          "output_type": "execute_result",
          "data": {
            "application/vnd.google.colaboratory.intrinsic+json": {
              "type": "string"
            },
            "text/plain": [
              "\"get_ipython().magic('pinfo %%timeit')\""
            ]
          },
          "metadata": {
            "tags": []
          },
          "execution_count": 41
        }
      ]
    },
    {
      "cell_type": "markdown",
      "metadata": {
        "id": "t4xxpXtdyHbL"
      },
      "source": [
        "##셸(shell) 명령어\r\n",
        "* 텍스트 기반의 셸 명령어 처리\r\n",
        "* ! 문자를 명령어 앞에 붙어서 셸 명령어 사용 가능\r\n",
        "\r\n",
        "* ls: 디렉토리 리스트 보기"
      ]
    },
    {
      "cell_type": "code",
      "metadata": {
        "colab": {
          "base_uri": "https://localhost:8080/"
        },
        "id": "GtMzDU8dyRcM",
        "outputId": "4b6f7eb8-7f5e-4ad5-9ac8-baee1854dad8"
      },
      "source": [
        "!ls"
      ],
      "execution_count": 50,
      "outputs": [
        {
          "output_type": "stream",
          "text": [
            "drive  liu2019.pdf  sample_data  test.py  test.text  test.txt\n"
          ],
          "name": "stdout"
        }
      ]
    },
    {
      "cell_type": "markdown",
      "metadata": {
        "id": "StX2SoLcykkB"
      },
      "source": [
        "* pwd : 현재 경로 보기"
      ]
    },
    {
      "cell_type": "code",
      "metadata": {
        "colab": {
          "base_uri": "https://localhost:8080/"
        },
        "id": "S4SNO1PbydmV",
        "outputId": "8c0124ed-e9d5-448f-a93c-c9f17d7cb2a2"
      },
      "source": [
        "!pwd"
      ],
      "execution_count": 51,
      "outputs": [
        {
          "output_type": "stream",
          "text": [
            "/content\n"
          ],
          "name": "stdout"
        }
      ]
    },
    {
      "cell_type": "markdown",
      "metadata": {
        "id": "ON9PJND9ysKN"
      },
      "source": [
        "* cd: 디렉토리 변경\r\n",
        "* IPython에서는 임시 셸에서 실행"
      ]
    },
    {
      "cell_type": "code",
      "metadata": {
        "colab": {
          "base_uri": "https://localhost:8080/"
        },
        "id": "TCkA78IyyqIu",
        "outputId": "4b8269f6-139a-4fca-d3a6-3a3ae369b49a"
      },
      "source": [
        "!cd sample_data/ && ls"
      ],
      "execution_count": 52,
      "outputs": [
        {
          "output_type": "stream",
          "text": [
            "anscombe.json\t\t      mnist_test.csv\n",
            "california_housing_test.csv   mnist_train_small.csv\n",
            "california_housing_train.csv  README.md\n"
          ],
          "name": "stdout"
        }
      ]
    },
    {
      "cell_type": "markdown",
      "metadata": {
        "id": "TQP0d4pSzBxo"
      },
      "source": [
        "* %cd : 지속적인 디렉토리 변경"
      ]
    },
    {
      "cell_type": "code",
      "metadata": {
        "colab": {
          "base_uri": "https://localhost:8080/"
        },
        "id": "_-stfNZXy8eg",
        "outputId": "b6edd703-6313-489d-e359-06cb97a3f2ae"
      },
      "source": [
        "%cd sample_data/"
      ],
      "execution_count": 53,
      "outputs": [
        {
          "output_type": "stream",
          "text": [
            "/content/sample_data\n"
          ],
          "name": "stdout"
        }
      ]
    },
    {
      "cell_type": "markdown",
      "metadata": {
        "id": "72tgYvhazT5v"
      },
      "source": [
        "* echo: 화면 출력"
      ]
    },
    {
      "cell_type": "code",
      "metadata": {
        "colab": {
          "base_uri": "https://localhost:8080/"
        },
        "id": "tEwK9ed7zRmj",
        "outputId": "f844c7ec-a2ed-4a09-a9dc-9cb00fcdc8f6"
      },
      "source": [
        "!echo \"Shell\""
      ],
      "execution_count": 54,
      "outputs": [
        {
          "output_type": "stream",
          "text": [
            "Shell\n"
          ],
          "name": "stdout"
        }
      ]
    },
    {
      "cell_type": "markdown",
      "metadata": {
        "id": "Bc2r3-wSzqD_"
      },
      "source": [
        "* mkdir : 디렉토리 생성"
      ]
    },
    {
      "cell_type": "code",
      "metadata": {
        "id": "uLK8GS34zdFA"
      },
      "source": [
        "!mkdir tmp"
      ],
      "execution_count": 55,
      "outputs": []
    },
    {
      "cell_type": "code",
      "metadata": {
        "colab": {
          "base_uri": "https://localhost:8080/"
        },
        "id": "5dOM3557zxPb",
        "outputId": "a840bd62-c54d-42ad-fd8c-83b55bd76da8"
      },
      "source": [
        "!ls"
      ],
      "execution_count": 56,
      "outputs": [
        {
          "output_type": "stream",
          "text": [
            "anscombe.json\t\t      mnist_test.csv\t     tmp\n",
            "california_housing_test.csv   mnist_train_small.csv\n",
            "california_housing_train.csv  README.md\n"
          ],
          "name": "stdout"
        }
      ]
    },
    {
      "cell_type": "markdown",
      "metadata": {
        "id": "DVMyCvuyz6HG"
      },
      "source": [
        "* cat : 파일 보기"
      ]
    },
    {
      "cell_type": "code",
      "metadata": {
        "colab": {
          "base_uri": "https://localhost:8080/"
        },
        "id": "eU51boXqz1s1",
        "outputId": "22ae7d79-5173-424d-f0a6-f3fc13bf9846"
      },
      "source": [
        "!cat README.md"
      ],
      "execution_count": 57,
      "outputs": [
        {
          "output_type": "stream",
          "text": [
            "This directory includes a few sample datasets to get you started.\n",
            "\n",
            "*   `california_housing_data*.csv` is California housing data from the 1990 US\n",
            "    Census; more information is available at:\n",
            "    https://developers.google.com/machine-learning/crash-course/california-housing-data-description\n",
            "\n",
            "*   `mnist_*.csv` is a small sample of the\n",
            "    [MNIST database](https://en.wikipedia.org/wiki/MNIST_database), which is\n",
            "    described at: http://yann.lecun.com/exdb/mnist/\n",
            "\n",
            "*   `anscombe.json` contains a copy of\n",
            "    [Anscombe's quartet](https://en.wikipedia.org/wiki/Anscombe%27s_quartet); it\n",
            "    was originally described in\n",
            "\n",
            "    Anscombe, F. J. (1973). 'Graphs in Statistical Analysis'. American\n",
            "    Statistician. 27 (1): 17-21. JSTOR 2682899.\n",
            "\n",
            "    and our copy was prepared by the\n",
            "    [vega_datasets library](https://github.com/altair-viz/vega_datasets/blob/4f67bdaad10f45e3549984e17e1b3088c731503d/vega_datasets/_data/anscombe.json).\n"
          ],
          "name": "stdout"
        }
      ]
    },
    {
      "cell_type": "markdown",
      "metadata": {
        "id": "DslVWnmq0NyL"
      },
      "source": [
        "* cp : 디렉토리/파일 복사"
      ]
    },
    {
      "cell_type": "code",
      "metadata": {
        "id": "-xqSF3100DF0"
      },
      "source": [
        "!cp README.md tmp/"
      ],
      "execution_count": 58,
      "outputs": []
    },
    {
      "cell_type": "code",
      "metadata": {
        "colab": {
          "base_uri": "https://localhost:8080/"
        },
        "id": "AwOM3v-s0XC3",
        "outputId": "0f16f40f-7f40-4ae7-fcb1-24f841c22da7"
      },
      "source": [
        "!ls tmp/"
      ],
      "execution_count": 59,
      "outputs": [
        {
          "output_type": "stream",
          "text": [
            "README.md\n"
          ],
          "name": "stdout"
        }
      ]
    },
    {
      "cell_type": "markdown",
      "metadata": {
        "id": "MKwNl9-50bpT"
      },
      "source": [
        "* rm : 디렉토리/파일 삭제"
      ]
    },
    {
      "cell_type": "code",
      "metadata": {
        "id": "nyvj219A0aMR"
      },
      "source": [
        "!rm -r tmp"
      ],
      "execution_count": 60,
      "outputs": []
    },
    {
      "cell_type": "code",
      "metadata": {
        "colab": {
          "base_uri": "https://localhost:8080/"
        },
        "id": "SQC7NQWj0oj_",
        "outputId": "0ea74d63-5ca0-419a-da82-61b2325e8e5e"
      },
      "source": [
        "!ls"
      ],
      "execution_count": 61,
      "outputs": [
        {
          "output_type": "stream",
          "text": [
            "anscombe.json\t\t      mnist_test.csv\n",
            "california_housing_test.csv   mnist_train_small.csv\n",
            "california_housing_train.csv  README.md\n"
          ],
          "name": "stdout"
        }
      ]
    },
    {
      "cell_type": "markdown",
      "metadata": {
        "id": "pqjjLAA20s71"
      },
      "source": [
        "# 마크다운(Markdown)\r\n",
        "* 문법이 간단하고, 사용이 쉬움"
      ]
    },
    {
      "cell_type": "markdown",
      "metadata": {
        "id": "0tJQiSRP03Qe"
      },
      "source": [
        "## 제목(Heading) 표시\r\n",
        "\r\n",
        "# Heading 1\r\n",
        "## Heading 2\r\n",
        "### Heading 3\r\n",
        "#### Heading 3\r\n",
        "##### Heading 3\r\n",
        "###### Heading 3"
      ]
    },
    {
      "cell_type": "markdown",
      "metadata": {
        "id": "spp8jzJp1UF6"
      },
      "source": [
        "## 목록(List) 구성\r\n",
        "1. 첫째\r\n",
        "2. 둘째\r\n",
        "3. 셋째\r\n",
        "* 1단계\r\n",
        "  + 2단계\r\n",
        "    - 3단계"
      ]
    },
    {
      "cell_type": "markdown",
      "metadata": {
        "id": "IGC-bY4U14uB"
      },
      "source": [
        "## 폰트 스타일 (Font Style)"
      ]
    },
    {
      "cell_type": "markdown",
      "metadata": {
        "id": "u2dyzESs2BUN"
      },
      "source": [
        "**bold**\r\n",
        "__bold__\r\n",
        "*italic*\r\n",
        "_italic_\r\n",
        "~~strike~~\r\n",
        "<u> underbar<u>"
      ]
    },
    {
      "cell_type": "markdown",
      "metadata": {
        "id": "Mf6CjcOn2jEr"
      },
      "source": [
        "## 인용구"
      ]
    },
    {
      "cell_type": "markdown",
      "metadata": {
        "id": "_ra-G-lF2mZV"
      },
      "source": [
        "> 인용 1\r\n",
        ">> 인용 2\r\n",
        ">>> 인용 3"
      ]
    },
    {
      "cell_type": "markdown",
      "metadata": {
        "id": "hPhWVaUa2xOC"
      },
      "source": [
        "## 링크(Link)"
      ]
    },
    {
      "cell_type": "markdown",
      "metadata": {
        "id": "gWbTYbil22yS"
      },
      "source": [
        "[Google](http://www.google.com)"
      ]
    },
    {
      "cell_type": "markdown",
      "metadata": {
        "id": "56Ij3Byz3SOC"
      },
      "source": [
        "![이미지](https://lh3.googleusercontent.com/jZQWjj7FNfxdaOi0rz0mdK6AaBxowM5TJBrOEjnb6UcWf_lfXBr5ibioj0fec4Th9PoyI-C2w7FvKMigq6aVq-h3_MUPxYUfJPJLf1Sl=s660)"
      ]
    },
    {
      "cell_type": "markdown",
      "metadata": {
        "id": "CFtRNm0u4BQB"
      },
      "source": [
        "## 수평선"
      ]
    },
    {
      "cell_type": "markdown",
      "metadata": {
        "id": "zjh5dk2Q4Gb-"
      },
      "source": [
        "___"
      ]
    },
    {
      "cell_type": "markdown",
      "metadata": {
        "id": "Ythqg6cD4I9U"
      },
      "source": [
        "## 표"
      ]
    },
    {
      "cell_type": "markdown",
      "metadata": {
        "id": "afZiQ0--4MJt"
      },
      "source": [
        "| c1은 첫번째 컬럼        | c2는 두번째 컬럼       | c3는 마지막 컬럼        |\r\n",
        "| :---|---:|:---:|\r\n",
        "| d1 | d2 | d3 |"
      ]
    },
    {
      "cell_type": "markdown",
      "metadata": {
        "id": "fi51CuMZ5CFJ"
      },
      "source": [
        "## 코드\r\n",
        "* `inline code`\r\n",
        "* ```block code```"
      ]
    },
    {
      "cell_type": "markdown",
      "metadata": {
        "id": "MS89hEA15a2B"
      },
      "source": [
        "`print(\"hello...\")`"
      ]
    },
    {
      "cell_type": "markdown",
      "metadata": {
        "id": "e37PBoRE5lz1"
      },
      "source": [
        "\r\n",
        "```python\r\n",
        "def power(b, n)\r\n",
        "  return pow(b, n)\r\n",
        "```\r\n"
      ]
    },
    {
      "cell_type": "code",
      "metadata": {
        "id": "mzy7SzqD0qDJ"
      },
      "source": [
        ""
      ],
      "execution_count": null,
      "outputs": []
    }
  ]
}